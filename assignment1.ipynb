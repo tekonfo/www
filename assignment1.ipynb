{
 "cells": [
  {
   "cell_type": "code",
   "execution_count": 92,
   "metadata": {
    "tags": []
   },
   "outputs": [
    {
     "output_type": "stream",
     "name": "stderr",
     "text": "[nltk_data] Downloading package stopwords to\n[nltk_data]     /Users/kondoutaisyou/nltk_data...\n[nltk_data]   Package stopwords is already up-to-date!\n[nltk_data] Downloading package wordnet to\n[nltk_data]     /Users/kondoutaisyou/nltk_data...\n[nltk_data]   Package wordnet is already up-to-date!\n[nltk_data] Downloading package punkt to\n[nltk_data]     /Users/kondoutaisyou/nltk_data...\n[nltk_data]   Package punkt is already up-to-date!\n"
    }
   ],
   "source": [
    "# install\n",
    "import nltk\n",
    "import numpy as np\n",
    "import pandas as pd\n",
    "\n",
    "nltk.download(\"stopwords\")\n",
    "nltk.download(\"wordnet\")\n",
    "nltk.download(\"punkt\")\n",
    "\n",
    "from nltk.metrics import jaccard_distance\n",
    "from nltk.corpus import stopwords \n",
    "from nltk.tokenize import word_tokenize \n",
    "\n",
    "from itertools import combinations\n"
   ]
  },
  {
   "cell_type": "code",
   "execution_count": 93,
   "metadata": {},
   "outputs": [],
   "source": [
    "# https://docs.google.com/spreadsheets/d/1j0d_LVpF_3EWX8xgFIfE6LxGUGC4Ieq1wQ8ROFsbOyo/edit#gid=1294886113\n",
    "# sampleの文書を利用した。\n",
    "df = pd.read_csv(\"wiki.csv\")\n",
    "df = df[:10]\n",
    "\n"
   ]
  },
  {
   "cell_type": "code",
   "execution_count": 94,
   "metadata": {
    "tags": []
   },
   "outputs": [],
   "source": [
    "# 文章を集合化\n",
    "stop_words = set(stopwords.words('english')) \n",
    "def to_set(tmp):\n",
    "    return set([w for w in word_tokenize(tmp) if not w in stop_words])\n",
    "df['text_set'] = df['Abstract'].map(to_set)"
   ]
  },
  {
   "cell_type": "code",
   "execution_count": 95,
   "metadata": {},
   "outputs": [
    {
     "output_type": "execute_result",
     "data": {
      "text/plain": "            Name                                           Abstract  \\\n0          Japan  Japan is an island country in East Asia. Locat...   \n1  United States  The United States of America (USA), commonly k...   \n2        England  England is a country that is part of the Unite...   \n3          China  China, officially the People's Republic of Chi...   \n4          India  India, also known as the Republic of India,[19...   \n5          Korea  Korea is a region in East Asia.[3] Since 1948 ...   \n6        Germany  Germany, officially the Federal Republic of Ge...   \n7         Russia  Russia, or the Russian Federation[12], is a tr...   \n8         France  France, officially the French Republic, is a c...   \n9          Italy  Italy, officially the Italian Republic,[10][11...   \n\n                                            text_set category  \n0  {influential, Upper, fourth-largest, maintaine...      アジア  \n1  {organizations, culminating, left, 1964, PPP, ...    北アメリカ  \n2  {inhabited, 7, Upper, 14, However, 1801, Angli...    ヨーロッパ  \n3  {disputed, replaced, trillion, fourth-largest,...      アジア  \n4  {Maldives, Bengal, era, exchange, pluralistic,...      アジア  \n5  {collapsed, Sino-Japanese, 7, era, However, mo...      アジア  \n6  {inhabited, replaced, care, influential, fourt...    ヨーロッパ  \n7  {wide, Republic, 19, 12, twelfth, number, Coll...    ユーラシア  \n8  {7, fourth-largest, 843, culminating, Republic...    ヨーロッパ  \n9  {Marino, influential, location, Italian, homel...    ヨーロッパ  ",
      "text/html": "<div>\n<style scoped>\n    .dataframe tbody tr th:only-of-type {\n        vertical-align: middle;\n    }\n\n    .dataframe tbody tr th {\n        vertical-align: top;\n    }\n\n    .dataframe thead th {\n        text-align: right;\n    }\n</style>\n<table border=\"1\" class=\"dataframe\">\n  <thead>\n    <tr style=\"text-align: right;\">\n      <th></th>\n      <th>Name</th>\n      <th>Abstract</th>\n      <th>text_set</th>\n      <th>category</th>\n    </tr>\n  </thead>\n  <tbody>\n    <tr>\n      <th>0</th>\n      <td>Japan</td>\n      <td>Japan is an island country in East Asia. Locat...</td>\n      <td>{influential, Upper, fourth-largest, maintaine...</td>\n      <td>アジア</td>\n    </tr>\n    <tr>\n      <th>1</th>\n      <td>United States</td>\n      <td>The United States of America (USA), commonly k...</td>\n      <td>{organizations, culminating, left, 1964, PPP, ...</td>\n      <td>北アメリカ</td>\n    </tr>\n    <tr>\n      <th>2</th>\n      <td>England</td>\n      <td>England is a country that is part of the Unite...</td>\n      <td>{inhabited, 7, Upper, 14, However, 1801, Angli...</td>\n      <td>ヨーロッパ</td>\n    </tr>\n    <tr>\n      <th>3</th>\n      <td>China</td>\n      <td>China, officially the People's Republic of Chi...</td>\n      <td>{disputed, replaced, trillion, fourth-largest,...</td>\n      <td>アジア</td>\n    </tr>\n    <tr>\n      <th>4</th>\n      <td>India</td>\n      <td>India, also known as the Republic of India,[19...</td>\n      <td>{Maldives, Bengal, era, exchange, pluralistic,...</td>\n      <td>アジア</td>\n    </tr>\n    <tr>\n      <th>5</th>\n      <td>Korea</td>\n      <td>Korea is a region in East Asia.[3] Since 1948 ...</td>\n      <td>{collapsed, Sino-Japanese, 7, era, However, mo...</td>\n      <td>アジア</td>\n    </tr>\n    <tr>\n      <th>6</th>\n      <td>Germany</td>\n      <td>Germany, officially the Federal Republic of Ge...</td>\n      <td>{inhabited, replaced, care, influential, fourt...</td>\n      <td>ヨーロッパ</td>\n    </tr>\n    <tr>\n      <th>7</th>\n      <td>Russia</td>\n      <td>Russia, or the Russian Federation[12], is a tr...</td>\n      <td>{wide, Republic, 19, 12, twelfth, number, Coll...</td>\n      <td>ユーラシア</td>\n    </tr>\n    <tr>\n      <th>8</th>\n      <td>France</td>\n      <td>France, officially the French Republic, is a c...</td>\n      <td>{7, fourth-largest, 843, culminating, Republic...</td>\n      <td>ヨーロッパ</td>\n    </tr>\n    <tr>\n      <th>9</th>\n      <td>Italy</td>\n      <td>Italy, officially the Italian Republic,[10][11...</td>\n      <td>{Marino, influential, location, Italian, homel...</td>\n      <td>ヨーロッパ</td>\n    </tr>\n  </tbody>\n</table>\n</div>"
     },
     "metadata": {},
     "execution_count": 95
    }
   ],
   "source": [
    "# 全部は必要ないので、10個のみ対象とする\n",
    "tmp_df = df[:10]\n",
    "category = [\"アジア\",\"北アメリカ\",\"ヨーロッパ\",\"アジア\",\"アジア\",\"アジア\",\"ヨーロッパ\",\"ユーラシア\",\"ヨーロッパ\",\"ヨーロッパ\"]\n",
    "tmp_df['category'] = category\n",
    "tmp_df"
   ]
  },
  {
   "cell_type": "code",
   "execution_count": 103,
   "metadata": {
    "tags": []
   },
   "outputs": [
    {
     "output_type": "stream",
     "name": "stdout",
     "text": "{0: {'Jaccard係数': 0.884083044982699, 'groups': 'アジア:北アメリカ'}, 1: {'Jaccard係数': 0.8910675381263616, 'groups': 'アジア:ヨーロッパ'}, 2: {'Jaccard係数': 0.8610567514677103, 'groups': 'アジア:アジア'}, 3: {'Jaccard係数': 0.904862579281184, 'groups': 'アジア:アジア'}, 4: {'Jaccard係数': 0.8667992047713717, 'groups': 'アジア:アジア'}, 5: {'Jaccard係数': 0.8531073446327684, 'groups': 'アジア:ヨーロッパ'}, 6: {'Jaccard係数': 0.8647260273972602, 'groups': 'アジア:ユーラシア'}, 7: {'Jaccard係数': 0.8451730418943534, 'groups': 'アジア:ヨーロッパ'}, 8: {'Jaccard係数': 0.8363636363636363, 'groups': 'アジア:ヨーロッパ'}, 9: {'Jaccard係数': 0.9012345679012346, 'groups': '北アメリカ:ヨーロッパ'}, 10: {'Jaccard係数': 0.8438095238095238, 'groups': '北アメリカ:アジア'}, 11: {'Jaccard係数': 0.8985801217038539, 'groups': '北アメリカ:アジア'}, 12: {'Jaccard係数': 0.8899253731343284, 'groups': '北アメリカ:アジア'}, 13: {'Jaccard係数': 0.8637992831541219, 'groups': '北アメリカ:ヨーロッパ'}, 14: {'Jaccard係数': 0.8158347676419966, 'groups': '北アメリカ:ユーラシア'}, 15: {'Jaccard係数': 0.8539130434782609, 'groups': '北アメリカ:ヨーロッパ'}, 16: {'Jaccard係数': 0.8627145085803433, 'groups': '北アメリカ:ヨーロッパ'}, 17: {'Jaccard係数': 0.9197247706422018, 'groups': 'ヨーロッパ:アジア'}, 18: {'Jaccard係数': 0.9117647058823529, 'groups': 'ヨーロッパ:アジア'}, 19: {'Jaccard係数': 0.8694581280788177, 'groups': 'ヨーロッパ:アジア'}, 20: {'Jaccard係数': 0.863013698630137, 'groups': 'ヨーロッパ:ヨーロッパ'}, 21: {'Jaccard係数': 0.8870967741935484, 'groups': 'ヨーロッパ:ユーラシア'}, 22: {'Jaccard係数': 0.8630434782608696, 'groups': 'ヨーロッパ:ヨーロッパ'}, 23: {'Jaccard係数': 0.8832391713747646, 'groups': 'ヨーロッパ:ヨーロッパ'}, 24: {'Jaccard係数': 0.9115646258503401, 'groups': 'アジア:アジア'}, 25: {'Jaccard係数': 0.9030927835051547, 'groups': 'アジア:アジア'}, 26: {'Jaccard係数': 0.8891050583657587, 'groups': 'アジア:ヨーロッパ'}, 27: {'Jaccard係数': 0.8185255198487713, 'groups': 'アジア:ユーラシア'}, 28: {'Jaccard係数': 0.8625954198473282, 'groups': 'アジア:ヨーロッパ'}, 29: {'Jaccard係数': 0.8692699490662139, 'groups': 'アジア:ヨーロッパ'}, 30: {'Jaccard係数': 0.91415313225058, 'groups': 'アジア:アジア'}, 31: {'Jaccard係数': 0.8954248366013072, 'groups': 'アジア:ヨーロッパ'}, 32: {'Jaccard係数': 0.8666666666666667, 'groups': 'アジア:ユーラシア'}, 33: {'Jaccard係数': 0.9053497942386831, 'groups': 'アジア:ヨーロッパ'}, 34: {'Jaccard係数': 0.9074410163339383, 'groups': 'アジア:ヨーロッパ'}, 35: {'Jaccard係数': 0.8842315369261478, 'groups': 'アジア:ヨーロッパ'}, 36: {'Jaccard係数': 0.8894927536231884, 'groups': 'アジア:ユーラシア'}, 37: {'Jaccard係数': 0.8769230769230769, 'groups': 'アジア:ヨーロッパ'}, 38: {'Jaccard係数': 0.8743545611015491, 'groups': 'アジア:ヨーロッパ'}, 39: {'Jaccard係数': 0.8439716312056738, 'groups': 'ヨーロッパ:ユーラシア'}, 40: {'Jaccard係数': 0.8065134099616859, 'groups': 'ヨーロッパ:ヨーロッパ'}, 41: {'Jaccard係数': 0.8174061433447098, 'groups': 'ヨーロッパ:ヨーロッパ'}, 42: {'Jaccard係数': 0.828719723183391, 'groups': 'ユーラシア:ヨーロッパ'}, 43: {'Jaccard係数': 0.8525345622119815, 'groups': 'ユーラシア:ヨーロッパ'}, 44: {'Jaccard係数': 0.7912457912457912, 'groups': 'ヨーロッパ:ヨーロッパ'}}\n"
    }
   ],
   "source": [
    "result_dic = {}\n",
    "\n",
    "count = 0\n",
    "for one, two in combinations(range(10), 2):\n",
    "    distance = jaccard_distance(tmp_df['text_set'][one],tmp_df['text_set'][two])\n",
    "    # print(\"{}:{} 類似度:{}\".format(tmp_df['Name'][one],tmp_df['Name'][two], distance))\n",
    "    result_dic[count] = {\n",
    "        \"Jaccard係数\": distance,\n",
    "        \"groups\": \"{}:{}\".format(tmp_df['category'][one],tmp_df['category'][two])\n",
    "    }\n",
    "    count += 1\n",
    "\n",
    "print(result_dic)\n"
   ]
  },
  {
   "cell_type": "code",
   "execution_count": 104,
   "metadata": {},
   "outputs": [],
   "source": [
    "\"\"\"\n",
    "ユークリッド距離を計算するメソッド\n",
    "値が小さければ似ていると考えることができる\n",
    "\"\"\"\n",
    "def euclidean_distance(list_a, list_b):\n",
    "  diff_vec = np.array(list_a) - np.array(list_b)\n",
    "  return np.linalg.norm(diff_vec)"
   ]
  },
  {
   "cell_type": "code",
   "execution_count": 105,
   "metadata": {},
   "outputs": [],
   "source": [
    "# 文章をベクトル化\n",
    "docs = tmp_df['Abstract'].to_numpy()"
   ]
  },
  {
   "cell_type": "code",
   "execution_count": 106,
   "metadata": {
    "tags": []
   },
   "outputs": [],
   "source": [
    "from sklearn.feature_extraction.text import CountVectorizer\n",
    "count = CountVectorizer()\n",
    "bag = count.fit_transform(docs)"
   ]
  },
  {
   "cell_type": "code",
   "execution_count": 107,
   "metadata": {
    "tags": []
   },
   "outputs": [],
   "source": [
    "bag = count.fit_transform(docs)\n",
    "vector_list = bag.toarray()\n"
   ]
  },
  {
   "cell_type": "code",
   "execution_count": 108,
   "metadata": {
    "tags": []
   },
   "outputs": [
    {
     "output_type": "stream",
     "name": "stdout",
     "text": "Japan:United States 類似度:60.81940479813988\nJapan:England 類似度:42.30839160261236\nJapan:China 類似度:42.8485705712571\nJapan:India 類似度:48.249352327259274\nJapan:Korea 類似度:48.23898838076935\nJapan:Germany 類似度:43.255057507764334\nJapan:Russia 類似度:55.48873759602033\nJapan:France 類似度:43.393547907494266\nJapan:Italy 類似度:60.63002556489647\nUnited States:England 類似度:57.92236183029832\nUnited States:China 類似度:67.22350779303324\nUnited States:India 類似度:79.55501241279521\nUnited States:Korea 類似度:57.463031594234565\nUnited States:Germany 類似度:53.75872022286245\nUnited States:Russia 類似度:49.01020301937138\nUnited States:France 類似度:56.815490845367165\nUnited States:Italy 類似度:56.418082207746124\nEngland:China 類似度:42.14261501141095\nEngland:India 類似度:45.9782557302906\nEngland:Korea 類似度:42.67317658670374\nEngland:Germany 類似度:41.46082488325576\nEngland:Russia 類似度:54.17564028232615\nEngland:France 類似度:42.930175867331364\nEngland:Italy 類似度:59.07622195096772\nChina:India 類似度:42.261093218230876\nChina:Korea 類似度:50.547007824400445\nChina:Germany 類似度:47.085029467974216\nChina:Russia 類似度:59.06775770248944\nChina:France 類似度:48.19751030914356\nChina:Italy 類似度:68.01470429252781\nIndia:Korea 類似度:57.227615711297986\nIndia:Germany 類似度:54.064775963653084\nIndia:Russia 類似度:73.35529974037323\nIndia:France 類似度:53.54437412091022\nIndia:Italy 類似度:76.07890640644094\nKorea:Germany 類似度:47.45524207081869\nKorea:Russia 類似度:54.954526656136345\nKorea:France 類似度:48.72371086031933\nKorea:Italy 類似度:61.68468205316454\nGermany:Russia 類似度:44.76605857119878\nGermany:France 類似度:37.389838191679836\nGermany:Italy 類似度:49.122296363260546\nRussia:France 類似度:46.604720790924176\nRussia:Italy 類似度:47.36032094485847\nFrance:Italy 類似度:48.176757881783615\n"
    }
   ],
   "source": [
    "count = 0\n",
    "for one, two in combinations(range(10), 2):\n",
    "    distance = euclidean_distance(vector_list[one],vector_list[two])\n",
    "    print(\"{}:{} 類似度:{}\".format(tmp_df['Name'][one],tmp_df['Name'][two], distance))\n",
    "    result_dic[count]['ユークリッド距離'] = distance\n",
    "    count += 1"
   ]
  },
  {
   "cell_type": "code",
   "execution_count": 113,
   "metadata": {},
   "outputs": [
    {
     "output_type": "execute_result",
     "data": {
      "text/plain": "             Jaccard係数   ユークリッド距離\ngroups                           \nアジア:アジア       0.893588  48.228771\nアジア:ユーラシア     0.859853  60.716580\nアジア:ヨーロッパ     0.876185  53.418151\nアジア:北アメリカ     0.884083  60.819405\nユーラシア:ヨーロッパ   0.840627  46.982521\nヨーロッパ:アジア     0.900316  43.598016\nヨーロッパ:ユーラシア   0.865534  49.470849\nヨーロッパ:ヨーロッパ   0.837410  46.359353\n北アメリカ:アジア     0.877438  68.080517\n北アメリカ:ユーラシア   0.815835  49.010203\n北アメリカ:ヨーロッパ   0.870415  56.228664",
      "text/html": "<div>\n<style scoped>\n    .dataframe tbody tr th:only-of-type {\n        vertical-align: middle;\n    }\n\n    .dataframe tbody tr th {\n        vertical-align: top;\n    }\n\n    .dataframe thead th {\n        text-align: right;\n    }\n</style>\n<table border=\"1\" class=\"dataframe\">\n  <thead>\n    <tr style=\"text-align: right;\">\n      <th></th>\n      <th>Jaccard係数</th>\n      <th>ユークリッド距離</th>\n    </tr>\n    <tr>\n      <th>groups</th>\n      <th></th>\n      <th></th>\n    </tr>\n  </thead>\n  <tbody>\n    <tr>\n      <th>アジア:アジア</th>\n      <td>0.893588</td>\n      <td>48.228771</td>\n    </tr>\n    <tr>\n      <th>アジア:ユーラシア</th>\n      <td>0.859853</td>\n      <td>60.716580</td>\n    </tr>\n    <tr>\n      <th>アジア:ヨーロッパ</th>\n      <td>0.876185</td>\n      <td>53.418151</td>\n    </tr>\n    <tr>\n      <th>アジア:北アメリカ</th>\n      <td>0.884083</td>\n      <td>60.819405</td>\n    </tr>\n    <tr>\n      <th>ユーラシア:ヨーロッパ</th>\n      <td>0.840627</td>\n      <td>46.982521</td>\n    </tr>\n    <tr>\n      <th>ヨーロッパ:アジア</th>\n      <td>0.900316</td>\n      <td>43.598016</td>\n    </tr>\n    <tr>\n      <th>ヨーロッパ:ユーラシア</th>\n      <td>0.865534</td>\n      <td>49.470849</td>\n    </tr>\n    <tr>\n      <th>ヨーロッパ:ヨーロッパ</th>\n      <td>0.837410</td>\n      <td>46.359353</td>\n    </tr>\n    <tr>\n      <th>北アメリカ:アジア</th>\n      <td>0.877438</td>\n      <td>68.080517</td>\n    </tr>\n    <tr>\n      <th>北アメリカ:ユーラシア</th>\n      <td>0.815835</td>\n      <td>49.010203</td>\n    </tr>\n    <tr>\n      <th>北アメリカ:ヨーロッパ</th>\n      <td>0.870415</td>\n      <td>56.228664</td>\n    </tr>\n  </tbody>\n</table>\n</div>"
     },
     "metadata": {},
     "execution_count": 113
    }
   ],
   "source": [
    "result_df = pd.DataFrame.from_dict(result_dic, orient='index')\n",
    "result_df.groupby('groups').mean()"
   ]
  },
  {
   "cell_type": "code",
   "execution_count": null,
   "metadata": {},
   "outputs": [],
   "source": []
  }
 ],
 "metadata": {
  "language_info": {
   "codemirror_mode": {
    "name": "ipython",
    "version": 3
   },
   "file_extension": ".py",
   "mimetype": "text/x-python",
   "name": "python",
   "nbconvert_exporter": "python",
   "pygments_lexer": "ipython3",
   "version": "3.7.7-final"
  },
  "orig_nbformat": 2,
  "kernelspec": {
   "name": "python37764bithomeworkconda155dded6785a4cd6b0bc85cfbbfbb0a4",
   "display_name": "Python 3.7.7 64-bit ('Homework': conda)"
  }
 },
 "nbformat": 4,
 "nbformat_minor": 2
}